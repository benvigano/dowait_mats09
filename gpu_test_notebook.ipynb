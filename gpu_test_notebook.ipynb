{
 "cells": [
  {
   "cell_type": "code",
   "execution_count": 1,
   "id": "e84aaa0d",
   "metadata": {},
   "outputs": [],
   "source": [
    "import gpu_test_module"
   ]
  },
  {
   "cell_type": "code",
   "execution_count": 2,
   "id": "7a8ee878",
   "metadata": {},
   "outputs": [
    {
     "name": "stdout",
     "output_type": "stream",
     "text": [
      "✅ CUDA is available!\n",
      "CUDA Version: 12.8\n",
      "PyTorch Version: 2.8.0+cu128\n",
      "Number of GPUs: 1\n",
      "GPU 0: NVIDIA RTX A6000 (47.5 GB)\n"
     ]
    },
    {
     "data": {
      "text/plain": [
       "1"
      ]
     },
     "execution_count": 2,
     "metadata": {},
     "output_type": "execute_result"
    }
   ],
   "source": [
    "gpu_test_module.get_gpu_info()"
   ]
  },
  {
   "cell_type": "code",
   "execution_count": 3,
   "id": "d5ca5209",
   "metadata": {},
   "outputs": [
    {
     "name": "stdout",
     "output_type": "stream",
     "text": [
      "GPU Memory - Allocated: 0.00 GB, Reserved: 0.00 GB\n",
      "System Memory - Used: 35.00 GB, Available: 465.31 GB\n",
      "None\n",
      "\n",
      "🚀 Loading model: microsoft/DialoGPT-large\n",
      "This may take a few minutes...\n",
      "Loading tokenizer...\n"
     ]
    },
    {
     "name": "stdout",
     "output_type": "stream",
     "text": [
      "Loading model...\n",
      "✅ Model loaded successfully in 3.22 seconds!\n",
      "GPU Memory - Allocated: 1.48 GB, Reserved: 1.60 GB\n",
      "System Memory - Used: 35.66 GB, Available: 464.64 GB\n",
      "None\n"
     ]
    }
   ],
   "source": [
    "print(gpu_test_module.get_memory_usage())\n",
    "model, tokenizer = gpu_test_module.load_model(\"microsoft/DialoGPT-large\")\n",
    "print(gpu_test_module.get_memory_usage())"
   ]
  },
  {
   "cell_type": "code",
   "execution_count": 4,
   "id": "b19cfb64",
   "metadata": {},
   "outputs": [
    {
     "name": "stderr",
     "output_type": "stream",
     "text": [
      "The attention mask is not set and cannot be inferred from input because pad token is same as eos token. As a consequence, you may observe unexpected behavior. Please pass your input's `attention_mask` to obtain reliable results.\n"
     ]
    },
    {
     "name": "stdout",
     "output_type": "stream",
     "text": [
      "🤖 Running inference with prompt: 'Hey! Who are you?'\n",
      "Generating response...\n"
     ]
    },
    {
     "name": "stdout",
     "output_type": "stream",
     "text": [
      "✅ Generation completed in 0.31 seconds!\n",
      "Generated text: \n",
      "\n",
      "🧹 Cleaning up...\n",
      "\n",
      "📊 Memory Status After Cleanup:\n",
      "GPU Memory - Allocated: 1.49 GB, Reserved: 1.60 GB\n",
      "System Memory - Used: 35.91 GB, Available: 464.38 GB\n"
     ]
    }
   ],
   "source": [
    "# Run inference\n",
    "response = gpu_test_module.run_inference(model, tokenizer, \"Hey! Who are you?\")\n",
    "gpu_test_module.cleanup_memory(model, tokenizer)"
   ]
  }
 ],
 "metadata": {
  "kernelspec": {
   "display_name": ".venv",
   "language": "python",
   "name": "python3"
  },
  "language_info": {
   "codemirror_mode": {
    "name": "ipython",
    "version": 3
   },
   "file_extension": ".py",
   "mimetype": "text/x-python",
   "name": "python",
   "nbconvert_exporter": "python",
   "pygments_lexer": "ipython3",
   "version": "3.11.11"
  }
 },
 "nbformat": 4,
 "nbformat_minor": 5
}
